{
 "metadata": {
  "language_info": {
   "codemirror_mode": {
    "name": "ipython",
    "version": 3
   },
   "file_extension": ".py",
   "mimetype": "text/x-python",
   "name": "python",
   "nbconvert_exporter": "python",
   "pygments_lexer": "ipython3",
   "version": "3.8.7"
  },
  "orig_nbformat": 2,
  "kernelspec": {
   "name": "python387jvsc74a57bd0767d51c1340bd893661ea55ea3124f6de3c7a262a8b4abca0554b478b1e2ff90",
   "display_name": "Python 3.8.7 64-bit"
  },
  "metadata": {
   "interpreter": {
    "hash": "767d51c1340bd893661ea55ea3124f6de3c7a262a8b4abca0554b478b1e2ff90"
   }
  }
 },
 "nbformat": 4,
 "nbformat_minor": 2,
 "cells": [
  {
   "source": [
    "# Simulate Influenced!"
   ],
   "cell_type": "markdown",
   "metadata": {}
  },
  {
   "cell_type": "code",
   "execution_count": 39,
   "metadata": {},
   "outputs": [],
   "source": [
    "import pandas as pd\n",
    "import datetime as dt\n",
    "import pickle\n",
    "from pprint import pprint\n",
    "import html\n",
    "import random"
   ]
  },
  {
   "source": [
    "## Get the associated Pickle file w/ the tweets."
   ],
   "cell_type": "markdown",
   "metadata": {}
  },
  {
   "cell_type": "code",
   "execution_count": 20,
   "metadata": {},
   "outputs": [
    {
     "output_type": "execute_result",
     "data": {
      "text/plain": [
       "0    Some people are bad at mixing. They just mix s...\n",
       "1                                             coffee 😋\n",
       "2                        Not me chasing coffee w Yerba\n",
       "3    I will drink my iced coffee and I will have a ...\n",
       "4    i spilled my morning coffee on my lap,, now im...\n",
       "Name: text, dtype: object"
      ]
     },
     "metadata": {},
     "execution_count": 20
    }
   ],
   "source": [
    "tweets_df = pickle.loads(open('tweets/coffee.pkl', 'rb').read())\n",
    "tweets_df['text'].head()"
   ]
  },
  {
   "source": [
    "## Give `n` tweets for each player."
   ],
   "cell_type": "markdown",
   "metadata": {}
  },
  {
   "cell_type": "code",
   "execution_count": 68,
   "metadata": {},
   "outputs": [
    {
     "output_type": "stream",
     "name": "stdout",
     "text": [
      "The category is: anxiety!\n\nDayue's cards are:\n(1) ------------------------\n\nSlamming a coffee (aeropress, topped off with cold water - yes, it's ok to hate my choices in life) and going to smash a 5k. Let's see how this goes.\n\n(2) ------------------------\n\nMy coffee cup is empty and it's 730 and I am sad because I want more coffee\n\n(3) ------------------------\n\nI've had a lot of coffee, it's spam stupid shit time\n\n(4) ------------------------\n\nomg the coffee i drank for sahur is so strong i cnt go bck to sleep 💀💀💀💀\n\n(5) ------------------------\n\nJust had a lovely conversation with my father about his time in El Salvador. He’d go to this one beach every Monday on his day off and read books in a hammock under the trees with mangoes and Pollo Campero. At sunset he’d go back to camp where he lived in a tent near the coffee.\n\nJackie's cards are:\n(1) ------------------------\n\none of my toxic traits is thinking that i need coffee to do absolutely anything. like.. girly it’s 6:40pm and all you gotta do is work on some school work, you are completely capable without caffeine\n\n(2) ------------------------\n\nwat wud u say is the # of days limit on drinking coffee 1. left in pot on counter & 2. pot in fridge??? idgas about the quality i just dont wana drink mold\n\n(3) ------------------------\n\nSipping that large iced coffee fast was a very bad idea. I’m palpitating. Fvck\n\n(4) ------------------------\n\nCasually drinking some coffee—\n\n(5) ------------------------\n\nno this is not my second coffee this past hour\n\nFred's cards are:\n(1) ------------------------\n\nShe’s been home an hour and she’s on her third coffee.\n\n(2) ------------------------\n\nSends his assistant for coffee in the afternoon\n\nI vote for #WatermelonSugar for #BestMusicVideo at the #iHeartAwards\n\n(3) ------------------------\n\nWhite women are colonising coffee. Katie Angel didn’t invent dalgona coffee, shouldn’t be selling “kits” to make it for $49 each and journalists praised her and let her get away with it.\n\nSounds about white.\n\n(4) ------------------------\n\nLet me be your coffee pot\n\n(5) ------------------------\n\ndo I either:\n1. stay up and watch the streams, and drink a shit ton of coffee tomorrow\n\n2. be responsible and go to sleep, then be sad and have to catch up on the streams tomorroe\n\nYitan's cards are:\n(1) ------------------------\n\nSouth Dakota Man Jailed After Allegedly Dousing Hollister Employee with coffee\n\n(2) ------------------------\n\nIs coffee estrogenic or test boosting?  I've heard people say both but idk which is true.\n\n(3) ------------------------\n\nbesides the book advance, is there some kind of coffee per diem\ncause, like, there's the coffee\nthen the second coffee bc it's been 3 hours but you're on a roll so you can't move\nthen the muffin bc jitters\netc.\n\n(4) ------------------------\n\nCartel coffee in Tempe suuuuuucks\n\n(5) ------------------------\n\nRandomly realizing our Zack Lives AU is actually a coffee shop/bar AU in which the gang also tries to save the world between the coffee cups. 👌💜\n\n"
     ]
    }
   ],
   "source": [
    "players = [\"Dayue\", \"Jackie\", \"Fred\", \"Yitan\"]\n",
    "n = 5\n",
    "\n",
    "round_cards = tweets_df.sample(n=n*len(players))['text']\n",
    "player_cards = {}\n",
    "\n",
    "# Categories are from: https://lit.eecs.umich.edu/geoliwc/liwc_dictionary.html\n",
    "categories = [\n",
    "    \"friends\",\n",
    "    \"family\",\n",
    "    \"positive emotions\",\n",
    "    \"negative emotions\",\n",
    "    \"anxiety\",\n",
    "    \"anger\",\n",
    "    \"sadness\",\n",
    "    \"work\",\n",
    "    \"achievement\",\n",
    "    \"leisure\",\n",
    "    \"home\",\n",
    "    \"money\",\n",
    "    \"religion\",\n",
    "    \"death\"\n",
    "]\n",
    "\n",
    "# Select category!\n",
    "selected_category = random.choice(categories)\n",
    "print(f\"The category is: {selected_category}!\\n\")\n",
    "\n",
    "for i, player in enumerate(players):\n",
    "    \n",
    "    player_cards[player] = round_cards[i * n : (i + 1) * n].values\n",
    "\n",
    "    print(f\"{player}'s cards are:\")\n",
    "\n",
    "    for j, card in enumerate(player_cards[player]):\n",
    "        print(f\"({j+1}) ------------------------\\n\")\n",
    "        print(f\"{html.unescape(card)}\\n\")\n",
    "\n"
   ]
  },
  {
   "source": [
    "## Print out the selected cards."
   ],
   "cell_type": "markdown",
   "metadata": {}
  },
  {
   "cell_type": "code",
   "execution_count": 46,
   "metadata": {},
   "outputs": [
    {
     "output_type": "stream",
     "name": "stdout",
     "text": [
      "(1) ------------------------\nI love going to get coffee and writing poems at The Coffee Bean\n\n(2) ------------------------\nToday I learned that one date has 11 grams of carbohydrates. \n\nI had 3 dates and 9 almonds for a snack with my coffee, and now I’m questioning my entire existence. 😔\n\n(3) ------------------------\nI just got a manicure, for the first time. Then I got coffee. I have unleashed my basic white chick.\n\n(4) ------------------------\nmidterm exam ft. coffee.\n\nwho want some headache? huhuhu\n\n"
     ]
    }
   ],
   "source": [
    "selected_index = [1, 2, 3, 5]\n",
    "selected_cards = []\n",
    "\n",
    "\n",
    "# Print out selected cards.\n",
    "for i, (card_index, player) in enumerate(zip(selected_index, players)):\n",
    "    selected_cards.append(\n",
    "        player_cards[player][card_index - 1]\n",
    "    )\n",
    "    print(f\"({i + 1}) ------------------------\")\n",
    "    print(f\"{player_cards[player][card_index - 1]}\\n\")"
   ]
  },
  {
   "source": [
    "## Input the votes for data."
   ],
   "cell_type": "markdown",
   "metadata": {}
  },
  {
   "cell_type": "code",
   "execution_count": 48,
   "metadata": {},
   "outputs": [],
   "source": [
    "scores_df = pd.DataFrame()"
   ]
  },
  {
   "cell_type": "code",
   "execution_count": 60,
   "metadata": {},
   "outputs": [],
   "source": [
    "votes = [1, 3, 0, 0]\n",
    "\n",
    "# Add the cards to the row.\n",
    "row.update({\n",
    "    f\"card_{i}\": card for i, card in enumerate(selected_cards)\n",
    "})\n",
    "\n",
    "# Add the scores to the row.\n",
    "row.update({\n",
    "    f\"votes_{i}\": vote for i, vote in enumerate(votes)\n",
    "})\n",
    "\n",
    "scores_df = scores_df.append(row, ignore_index=True)"
   ]
  },
  {
   "source": [
    "## Export the scores."
   ],
   "cell_type": "markdown",
   "metadata": {}
  },
  {
   "cell_type": "code",
   "execution_count": 67,
   "metadata": {},
   "outputs": [],
   "source": [
    "scores_df.to_pickle('scores/scores.pkl')"
   ]
  },
  {
   "source": [
    "## TODO:\n",
    "\n",
    "* Point system, keep track of who's winning.\n",
    "\n",
    "* Implement a way to replace cards from your hand."
   ],
   "cell_type": "markdown",
   "metadata": {}
  },
  {
   "cell_type": "code",
   "execution_count": 90,
   "metadata": {},
   "outputs": [
    {
     "output_type": "execute_result",
     "data": {
      "text/plain": [
       "array(['7 leaves house coffee sounds really good rn. \\U0001f972',\n",
       "       'Peat Coffee : a1877fea-3fe2-43be-a969-cc71f1068311',\n",
       "       'Peat Coffee : 11a39c80-90f2-4976-a0ac-9010b36f6b21',\n",
       "       'starting my day right with a big mug of coffee and Fear MB for the hip dance ☕',\n",
       "       'this coffee made my mood spike a little too much o_o',\n",
       "       'gonna go buy an iced coffee and pull an all nighter because this paper ain’t gonna write itself 😪',\n",
       "       'i don’t know why i made my iced coffee in the same huge glass i make my iced chai lattes in because the limit my body can handle of each is not equivalent',\n",
       "       \"I'm really not drinking coffee and I'm okay.\",\n",
       "       'lmaoo i like how my mom asks me first if i want coffee before she asks everyone else 💀',\n",
       "       'Think imma set up one of those cute coffee stands in the crib cause I just love having opinions',\n",
       "       'Hell yeah I just waited 40min for a cookie and an iced coffee from gideons \\nAND TO SEE LIS BECAUSE SHES BEAUTIFUL',\n",
       "       'everyday brent just drives me around the city to buy iced coffee and get something random off fb marketplace and that’s why he’s my person',\n",
       "       'Bsgst1 Coffee : bc42d141-422c-4221-803b-1253394698a2',\n",
       "       'Been forever since I’ve had a strong cup of coffee, and you better believe that I am tweaking like I’m on some sort of street drug.',\n",
       "       'Sips coffee in Commission influence and training since 6 years old.',\n",
       "       '“who is mack and why is he nutting in my coffee?!?” weston....',\n",
       "       'why does this coffee taste like mekong chicken fried rice',\n",
       "       \"I'm on the Pacific time zone and I'm still drinking coffee right now getting ready for the @tigers\",\n",
       "       \"My weak ass drank coffee and monster today. No way I'm sleeping tonight istg\",\n",
       "       'I told myself like a week ago that I was gonna cut myself down to two cups of coffee a day and here I am, on my fourth including two cold brews'],\n",
       "      dtype=object)"
      ]
     },
     "metadata": {},
     "execution_count": 90
    }
   ],
   "source": [
    "html.unescape(tweets_df.sample(n=20)['text'].values)"
   ]
  }
 ]
}